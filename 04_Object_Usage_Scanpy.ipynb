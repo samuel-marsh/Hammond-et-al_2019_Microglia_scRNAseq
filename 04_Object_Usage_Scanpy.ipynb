{
 "cells": [
  {
   "cell_type": "code",
   "execution_count": null,
   "metadata": {},
   "outputs": [],
   "source": [
    "import anndata as ad #v0.8.0\n",
    "import scanpy as sc #v1.9.1"
   ]
  },
  {
   "cell_type": "code",
   "execution_count": null,
   "metadata": {},
   "outputs": [],
   "source": [
    "sc.set_figure_params(dpi=100, color_map = 'plasma_r')\n",
    "sc.settings.verbosity = 1\n",
    "sc.logging.print_header()"
   ]
  },
  {
   "cell_type": "code",
   "execution_count": null,
   "metadata": {},
   "outputs": [],
   "source": [
    "hammond_all_samples = sc.read_h5ad(\"Hammond_et-al-2019_anndata_Converted_v0-8-0.h5ad\")\n",
    "hammond_young_vs_old = sc.read_h5ad(\"Hammond_et-al-2019_Aged_anndata_Converted_v0-8-0.h5ad\")"
   ]
  },
  {
   "cell_type": "code",
   "execution_count": null,
   "metadata": {},
   "outputs": [],
   "source": [
    "hammond_all_sample_idents = [\"#00ACFF\", \"#FFD6FF\", \"#FFACFE\", \"#FF7EFF\", \"#009B23\", \"#001C96\", \"#00F1A5\", \"#C83FF4\", \"#C0C0C0\", \"#D5D5D5\", \"#A8A8A8\", \"#FFAE00\", \"#FF0000\", \"#000000\"]\n",
    "\n",
    "hammond_young_vs_old_idents = [\"#CCCCCC\", \"#B3B3B3\", \"#0000CD\", \"#00CDCD\", \"#000000\"]"
   ]
  },
  {
   "cell_type": "code",
   "execution_count": null,
   "metadata": {},
   "outputs": [],
   "source": [
    "# NOTE: The label for cluster 8 (orange) is misplaced due to cluster split on tSNE\n",
    "sc.pl.tsne(hammond_all_samples, color='Paper_Cluster', add_outline=False, legend_loc='on data',\n",
    "               legend_fontsize=12, legend_fontoutline=2,frameon=False,\n",
    "               title='All Samples', palette = hammond_all_sample_idents)\n",
    "\n"
   ]
  },
  {
   "cell_type": "code",
   "execution_count": null,
   "metadata": {},
   "outputs": [],
   "source": [
    "sc.pl.tsne(hammond_young_vs_old, color='cluster_name', add_outline=False, legend_loc='on data',\n",
    "               legend_fontsize=12, legend_fontoutline=2,frameon=False,\n",
    "               title='Young vs. Old', palette = hammond_young_vs_old_idents)"
   ]
  },
  {
   "cell_type": "code",
   "execution_count": null,
   "metadata": {
    "scrolled": true
   },
   "outputs": [],
   "source": [
    "sc.pl.tsne(hammond_all_samples, color=[\"Fcrls\", \"P2ry12\", \"Cx3cr1\", \"Trem2\", \"C1qa\",\n",
    "                                       \"Arg1\", \"Rrm2\", \"Ube2c\", \"Cenpa\", \"Fabp5\", \"Spp1\",\n",
    "                                       \"Hmox1\", \"Ms4a7\", \"Ccl4\", \"Ifi27l2a\", \"F13a1\", \"H2.Aa\",\n",
    "                                       \"Ccr2\", \"Lyve1\", \"Mgl2\"],\n",
    "           add_outline=False, legend_fontsize=12, legend_fontoutline=2,frameon=False)"
   ]
  },
  {
   "cell_type": "code",
   "execution_count": null,
   "metadata": {},
   "outputs": [],
   "source": []
  }
 ],
 "metadata": {
  "kernelspec": {
   "display_name": "Python 3",
   "language": "python",
   "name": "python3"
  },
  "language_info": {
   "codemirror_mode": {
    "name": "ipython",
    "version": 3
   },
   "file_extension": ".py",
   "mimetype": "text/x-python",
   "name": "python",
   "nbconvert_exporter": "python",
   "pygments_lexer": "ipython3",
   "version": "3.7.12"
  },
  "toc": {
   "base_numbering": 1,
   "nav_menu": {},
   "number_sections": true,
   "sideBar": true,
   "skip_h1_title": false,
   "title_cell": "Table of Contents",
   "title_sidebar": "Contents",
   "toc_cell": false,
   "toc_position": {},
   "toc_section_display": true,
   "toc_window_display": false
  }
 },
 "nbformat": 4,
 "nbformat_minor": 2
}
